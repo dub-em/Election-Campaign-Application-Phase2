{
 "cells": [
  {
   "cell_type": "code",
   "execution_count": 1,
   "id": "caca0aa4",
   "metadata": {},
   "outputs": [],
   "source": [
    "import psycopg2\n",
    "from psycopg2.extras import RealDictCursor\n",
    "import pandas as pd\n",
    "import time"
   ]
  },
  {
   "cell_type": "code",
   "execution_count": 3,
   "id": "598db25f",
   "metadata": {},
   "outputs": [],
   "source": [
    "from election_campaign import general_trends"
   ]
  },
  {
   "cell_type": "code",
   "execution_count": 4,
   "id": "930c6600",
   "metadata": {},
   "outputs": [],
   "source": [
    "alltweets = general_trends.get_alltweets(data_type='pandas.dataframe')"
   ]
  },
  {
   "cell_type": "code",
   "execution_count": 5,
   "id": "3508bc6a",
   "metadata": {},
   "outputs": [
    {
     "data": {
      "text/html": [
       "<div>\n",
       "<style scoped>\n",
       "    .dataframe tbody tr th:only-of-type {\n",
       "        vertical-align: middle;\n",
       "    }\n",
       "\n",
       "    .dataframe tbody tr th {\n",
       "        vertical-align: top;\n",
       "    }\n",
       "\n",
       "    .dataframe thead th {\n",
       "        text-align: right;\n",
       "    }\n",
       "</style>\n",
       "<table border=\"1\" class=\"dataframe\">\n",
       "  <thead>\n",
       "    <tr style=\"text-align: right;\">\n",
       "      <th></th>\n",
       "      <th>time_created</th>\n",
       "      <th>tweet</th>\n",
       "      <th>loca_tion</th>\n",
       "    </tr>\n",
       "  </thead>\n",
       "  <tbody>\n",
       "    <tr>\n",
       "      <th>0</th>\n",
       "      <td>2022-10-23T23:59:52+00:00</td>\n",
       "      <td>@PeterObi @DavidIbiyeomie I want set up a farm...</td>\n",
       "      <td>Lagos, Nigeria</td>\n",
       "    </tr>\n",
       "    <tr>\n",
       "      <th>1</th>\n",
       "      <td>2022-10-23T23:59:43+00:00</td>\n",
       "      <td>Wait, I don't understand. How on earth will th...</td>\n",
       "      <td>Lagos, Nigeria</td>\n",
       "    </tr>\n",
       "    <tr>\n",
       "      <th>2</th>\n",
       "      <td>2022-10-23T23:59:38+00:00</td>\n",
       "      <td>I won’t rule Nigeria from Dubai as part-time p...</td>\n",
       "      <td>Nigeria</td>\n",
       "    </tr>\n",
       "    <tr>\n",
       "      <th>3</th>\n",
       "      <td>2022-10-23T23:59:36+00:00</td>\n",
       "      <td>Kanu: Ohanaeze, Igbo leaders to meet Buhari, i...</td>\n",
       "      <td>Nigeria</td>\n",
       "    </tr>\n",
       "    <tr>\n",
       "      <th>4</th>\n",
       "      <td>2022-10-23T23:59:23+00:00</td>\n",
       "      <td>@JckMent @channelstv Are you a novice on Twitt...</td>\n",
       "      <td>Lagos</td>\n",
       "    </tr>\n",
       "    <tr>\n",
       "      <th>5</th>\n",
       "      <td>2022-10-23T23:59:19+00:00</td>\n",
       "      <td>@hz_dikko @d_kenzo_ @PeterObi @DavidIbiyeomie ...</td>\n",
       "      <td>Ibadan, Nigeria🇳🇬</td>\n",
       "    </tr>\n",
       "    <tr>\n",
       "      <th>6</th>\n",
       "      <td>2022-10-23T23:59:16+00:00</td>\n",
       "      <td>The way the Dpo killed that suspect in public ...</td>\n",
       "      <td>Lagos, Nigeria</td>\n",
       "    </tr>\n",
       "    <tr>\n",
       "      <th>7</th>\n",
       "      <td>2022-10-23T23:59:14+00:00</td>\n",
       "      <td>PDP’ll win Anambra, says Okowa - https://t.co/...</td>\n",
       "      <td>Nigeria</td>\n",
       "    </tr>\n",
       "    <tr>\n",
       "      <th>8</th>\n",
       "      <td>2022-10-23T23:59:11+00:00</td>\n",
       "      <td>@PeterObi @DavidIbiyeomie Happy birthday sir</td>\n",
       "      <td>Nigeria</td>\n",
       "    </tr>\n",
       "    <tr>\n",
       "      <th>9</th>\n",
       "      <td>2022-10-23T23:59:11+00:00</td>\n",
       "      <td>24-10-2022\\n@PeterObi wished pastor @DavidIbiy...</td>\n",
       "      <td>Nigeria</td>\n",
       "    </tr>\n",
       "  </tbody>\n",
       "</table>\n",
       "</div>"
      ],
      "text/plain": [
       "                time_created  \\\n",
       "0  2022-10-23T23:59:52+00:00   \n",
       "1  2022-10-23T23:59:43+00:00   \n",
       "2  2022-10-23T23:59:38+00:00   \n",
       "3  2022-10-23T23:59:36+00:00   \n",
       "4  2022-10-23T23:59:23+00:00   \n",
       "5  2022-10-23T23:59:19+00:00   \n",
       "6  2022-10-23T23:59:16+00:00   \n",
       "7  2022-10-23T23:59:14+00:00   \n",
       "8  2022-10-23T23:59:11+00:00   \n",
       "9  2022-10-23T23:59:11+00:00   \n",
       "\n",
       "                                               tweet          loca_tion  \n",
       "0  @PeterObi @DavidIbiyeomie I want set up a farm...     Lagos, Nigeria  \n",
       "1  Wait, I don't understand. How on earth will th...     Lagos, Nigeria  \n",
       "2  I won’t rule Nigeria from Dubai as part-time p...            Nigeria  \n",
       "3  Kanu: Ohanaeze, Igbo leaders to meet Buhari, i...            Nigeria  \n",
       "4  @JckMent @channelstv Are you a novice on Twitt...              Lagos  \n",
       "5  @hz_dikko @d_kenzo_ @PeterObi @DavidIbiyeomie ...  Ibadan, Nigeria🇳🇬  \n",
       "6  The way the Dpo killed that suspect in public ...     Lagos, Nigeria  \n",
       "7  PDP’ll win Anambra, says Okowa - https://t.co/...            Nigeria  \n",
       "8       @PeterObi @DavidIbiyeomie Happy birthday sir            Nigeria  \n",
       "9  24-10-2022\\n@PeterObi wished pastor @DavidIbiy...            Nigeria  "
      ]
     },
     "execution_count": 5,
     "metadata": {},
     "output_type": "execute_result"
    }
   ],
   "source": [
    "alltweets.head(10)"
   ]
  },
  {
   "cell_type": "code",
   "execution_count": 6,
   "id": "413ba241",
   "metadata": {},
   "outputs": [],
   "source": [
    "alltweets.to_csv('citizensvoice_dataset.csv')"
   ]
  },
  {
   "cell_type": "code",
   "execution_count": null,
   "id": "7cab15f3",
   "metadata": {},
   "outputs": [],
   "source": []
  }
 ],
 "metadata": {
  "kernelspec": {
   "display_name": "Python 3 (ipykernel)",
   "language": "python",
   "name": "python3"
  },
  "language_info": {
   "codemirror_mode": {
    "name": "ipython",
    "version": 3
   },
   "file_extension": ".py",
   "mimetype": "text/x-python",
   "name": "python",
   "nbconvert_exporter": "python",
   "pygments_lexer": "ipython3",
   "version": "3.9.12"
  }
 },
 "nbformat": 4,
 "nbformat_minor": 5
}
