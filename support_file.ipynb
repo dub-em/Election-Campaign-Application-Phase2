{
 "cells": [
  {
   "cell_type": "code",
   "execution_count": 2,
   "id": "caca0aa4",
   "metadata": {},
   "outputs": [],
   "source": [
    "import pandas as pd"
   ]
  },
  {
   "cell_type": "code",
   "execution_count": 3,
   "id": "413ba241",
   "metadata": {},
   "outputs": [],
   "source": [
    "alltweets = pd.read_csv('citizensvoice_dataset.csv')"
   ]
  },
  {
   "cell_type": "code",
   "execution_count": 4,
   "id": "3508bc6a",
   "metadata": {},
   "outputs": [
    {
     "data": {
      "text/html": [
       "<div>\n",
       "<style scoped>\n",
       "    .dataframe tbody tr th:only-of-type {\n",
       "        vertical-align: middle;\n",
       "    }\n",
       "\n",
       "    .dataframe tbody tr th {\n",
       "        vertical-align: top;\n",
       "    }\n",
       "\n",
       "    .dataframe thead th {\n",
       "        text-align: right;\n",
       "    }\n",
       "</style>\n",
       "<table border=\"1\" class=\"dataframe\">\n",
       "  <thead>\n",
       "    <tr style=\"text-align: right;\">\n",
       "      <th></th>\n",
       "      <th>Unnamed: 0</th>\n",
       "      <th>time_created</th>\n",
       "      <th>tweet</th>\n",
       "      <th>loca_tion</th>\n",
       "    </tr>\n",
       "  </thead>\n",
       "  <tbody>\n",
       "    <tr>\n",
       "      <th>0</th>\n",
       "      <td>0</td>\n",
       "      <td>2022-10-25T23:44:56+00:00</td>\n",
       "      <td>Tinubu Is An Emperor; Buhari, Osinbajo, Govern...</td>\n",
       "      <td>Nigeria</td>\n",
       "    </tr>\n",
       "    <tr>\n",
       "      <th>1</th>\n",
       "      <td>1</td>\n",
       "      <td>2022-10-25T23:37:40+00:00</td>\n",
       "      <td>Dear @PeterObi please stop putting our future ...</td>\n",
       "      <td>Lagos, Nigeria</td>\n",
       "    </tr>\n",
       "    <tr>\n",
       "      <th>2</th>\n",
       "      <td>2</td>\n",
       "      <td>2022-10-25T23:31:19+00:00</td>\n",
       "      <td>Wike pointed to how the PDP presidential candi...</td>\n",
       "      <td>Nigeria</td>\n",
       "    </tr>\n",
       "    <tr>\n",
       "      <th>3</th>\n",
       "      <td>3</td>\n",
       "      <td>2022-10-25T23:03:57+00:00</td>\n",
       "      <td>@fkeyamo @apc_lagos https://t.co/KrKdTG8prX</td>\n",
       "      <td>Ogun, Nigeria</td>\n",
       "    </tr>\n",
       "    <tr>\n",
       "      <th>4</th>\n",
       "      <td>4</td>\n",
       "      <td>2022-10-27T23:59:39+00:00</td>\n",
       "      <td>PDP is in total chaos in Ogun, dead in Lagos, ...</td>\n",
       "      <td>Ogun, Nigeria</td>\n",
       "    </tr>\n",
       "    <tr>\n",
       "      <th>5</th>\n",
       "      <td>5</td>\n",
       "      <td>2022-10-20T23:59:41+00:00</td>\n",
       "      <td>One of their lekki lies . They lie like their ...</td>\n",
       "      <td>Port Harcourt, Nigeria</td>\n",
       "    </tr>\n",
       "    <tr>\n",
       "      <th>6</th>\n",
       "      <td>6</td>\n",
       "      <td>2022-10-25T22:40:58+00:00</td>\n",
       "      <td>@Taikaz_adufe @valeron31 @Cold_n_dark @SugarCh...</td>\n",
       "      <td>Lagos, Nigeria</td>\n",
       "    </tr>\n",
       "    <tr>\n",
       "      <th>7</th>\n",
       "      <td>7</td>\n",
       "      <td>2022-10-25T22:40:03+00:00</td>\n",
       "      <td>@Taikaz_adufe @valeron31 @Cold_n_dark @SugarCh...</td>\n",
       "      <td>Lagos, Nigeria</td>\n",
       "    </tr>\n",
       "    <tr>\n",
       "      <th>8</th>\n",
       "      <td>8</td>\n",
       "      <td>2022-10-25T22:31:22+00:00</td>\n",
       "      <td>I just saw video of tinubu threatening to redu...</td>\n",
       "      <td>Lagos, Nigeria</td>\n",
       "    </tr>\n",
       "    <tr>\n",
       "      <th>9</th>\n",
       "      <td>9</td>\n",
       "      <td>2022-10-20T23:59:34+00:00</td>\n",
       "      <td>IPOB: South East senators beg Buhari to releas...</td>\n",
       "      <td>Nigeria</td>\n",
       "    </tr>\n",
       "  </tbody>\n",
       "</table>\n",
       "</div>"
      ],
      "text/plain": [
       "   Unnamed: 0               time_created  \\\n",
       "0           0  2022-10-25T23:44:56+00:00   \n",
       "1           1  2022-10-25T23:37:40+00:00   \n",
       "2           2  2022-10-25T23:31:19+00:00   \n",
       "3           3  2022-10-25T23:03:57+00:00   \n",
       "4           4  2022-10-27T23:59:39+00:00   \n",
       "5           5  2022-10-20T23:59:41+00:00   \n",
       "6           6  2022-10-25T22:40:58+00:00   \n",
       "7           7  2022-10-25T22:40:03+00:00   \n",
       "8           8  2022-10-25T22:31:22+00:00   \n",
       "9           9  2022-10-20T23:59:34+00:00   \n",
       "\n",
       "                                               tweet               loca_tion  \n",
       "0  Tinubu Is An Emperor; Buhari, Osinbajo, Govern...                 Nigeria  \n",
       "1  Dear @PeterObi please stop putting our future ...          Lagos, Nigeria  \n",
       "2  Wike pointed to how the PDP presidential candi...                 Nigeria  \n",
       "3        @fkeyamo @apc_lagos https://t.co/KrKdTG8prX           Ogun, Nigeria  \n",
       "4  PDP is in total chaos in Ogun, dead in Lagos, ...           Ogun, Nigeria  \n",
       "5  One of their lekki lies . They lie like their ...  Port Harcourt, Nigeria  \n",
       "6  @Taikaz_adufe @valeron31 @Cold_n_dark @SugarCh...          Lagos, Nigeria  \n",
       "7  @Taikaz_adufe @valeron31 @Cold_n_dark @SugarCh...          Lagos, Nigeria  \n",
       "8  I just saw video of tinubu threatening to redu...          Lagos, Nigeria  \n",
       "9  IPOB: South East senators beg Buhari to releas...                 Nigeria  "
      ]
     },
     "execution_count": 4,
     "metadata": {},
     "output_type": "execute_result"
    }
   ],
   "source": [
    "alltweets.head(10)"
   ]
  }
 ],
 "metadata": {
  "kernelspec": {
   "display_name": "Python 3 (ipykernel)",
   "language": "python",
   "name": "python3"
  },
  "language_info": {
   "codemirror_mode": {
    "name": "ipython",
    "version": 3
   },
   "file_extension": ".py",
   "mimetype": "text/x-python",
   "name": "python",
   "nbconvert_exporter": "python",
   "pygments_lexer": "ipython3",
   "version": "3.9.12"
  },
  "vscode": {
   "interpreter": {
    "hash": "63963b3f4c440940f0b94a3100916033a226cb4f45979123153792d60aa56d6a"
   }
  }
 },
 "nbformat": 4,
 "nbformat_minor": 5
}
