{
 "cells": [
  {
   "cell_type": "markdown",
   "id": "03f0827e",
   "metadata": {},
   "source": [
    "## Research Questions Focus Areas"
   ]
  },
  {
   "cell_type": "markdown",
   "id": "37b22300",
   "metadata": {},
   "source": [
    "- Note: Please endeavour to explicitly comment your codes and properly document whichever functions created so as to help other collaborators learn from your codes quicker. Remember that the project is also a learning process."
   ]
  },
  {
   "cell_type": "markdown",
   "id": "167a7b59",
   "metadata": {},
   "source": [
    "---"
   ]
  },
  {
   "cell_type": "markdown",
   "id": "2bd16e5e",
   "metadata": {},
   "source": [
    "### Dataset Import"
   ]
  },
  {
   "cell_type": "code",
   "execution_count": 3,
   "id": "caca0aa4",
   "metadata": {},
   "outputs": [],
   "source": [
    "import pandas as pd\n",
    "import re"
   ]
  },
  {
   "cell_type": "code",
   "execution_count": 42,
   "id": "413ba241",
   "metadata": {},
   "outputs": [],
   "source": [
    "pd.set_option(\"display.max_colwidth\", None)\n",
    "tweets = pd.read_csv('citizensvoice_dataset.csv', index_col=0)"
   ]
  },
  {
   "cell_type": "code",
   "execution_count": 24,
   "id": "3508bc6a",
   "metadata": {
    "scrolled": true
   },
   "outputs": [
    {
     "data": {
      "text/html": [
       "<div>\n",
       "<style scoped>\n",
       "    .dataframe tbody tr th:only-of-type {\n",
       "        vertical-align: middle;\n",
       "    }\n",
       "\n",
       "    .dataframe tbody tr th {\n",
       "        vertical-align: top;\n",
       "    }\n",
       "\n",
       "    .dataframe thead th {\n",
       "        text-align: right;\n",
       "    }\n",
       "</style>\n",
       "<table border=\"1\" class=\"dataframe\">\n",
       "  <thead>\n",
       "    <tr style=\"text-align: right;\">\n",
       "      <th></th>\n",
       "      <th>time_created</th>\n",
       "      <th>tweet</th>\n",
       "      <th>loca_tion</th>\n",
       "    </tr>\n",
       "  </thead>\n",
       "  <tbody>\n",
       "    <tr>\n",
       "      <th>0</th>\n",
       "      <td>2022-10-25T23:44:56+00:00</td>\n",
       "      <td>Tinubu Is An Emperor; Buhari, Osinbajo, Governors Begged Him To Forgive Ambode But He Refused —Dele Momodu | Sahara Reporters https://t.co/mO1zWgXQxn</td>\n",
       "      <td>Nigeria</td>\n",
       "    </tr>\n",
       "    <tr>\n",
       "      <th>1</th>\n",
       "      <td>2022-10-25T23:37:40+00:00</td>\n",
       "      <td>Dear @PeterObi please stop putting our future at risk. \\r\\nYou are the only reason I still believe in Nigeria. \\r\\nMy vote is for you https://t.co/nKhLhzrV8H</td>\n",
       "      <td>Lagos, Nigeria</td>\n",
       "    </tr>\n",
       "    <tr>\n",
       "      <th>2</th>\n",
       "      <td>2022-10-25T23:31:19+00:00</td>\n",
       "      <td>Wike pointed to how the PDP presidential candidate, Alhaji Atiku Abubakar picked people from Rivers State as members of the presidential campaign council without any input from him.\\r\\n\\r\\nhttps://t.co/H2cicBJlu1</td>\n",
       "      <td>Nigeria</td>\n",
       "    </tr>\n",
       "    <tr>\n",
       "      <th>3</th>\n",
       "      <td>2022-10-25T23:03:57+00:00</td>\n",
       "      <td>@fkeyamo @apc_lagos https://t.co/KrKdTG8prX</td>\n",
       "      <td>Ogun, Nigeria</td>\n",
       "    </tr>\n",
       "    <tr>\n",
       "      <th>4</th>\n",
       "      <td>2022-10-27T23:59:39+00:00</td>\n",
       "      <td>PDP is in total chaos in Ogun, dead in Lagos, Oyo PDP refusing to work for Atiku, the leaders in Ekiti and Ondo are refusing to mount a challenge, only in Osun does the party have a deem hope. https://t.co/w3r3dmSa0i</td>\n",
       "      <td>Ogun, Nigeria</td>\n",
       "    </tr>\n",
       "    <tr>\n",
       "      <th>5</th>\n",
       "      <td>2022-10-20T23:59:41+00:00</td>\n",
       "      <td>One of their lekki lies . They lie like their presidential candidate @PeterObi https://t.co/mMxchiJIPc</td>\n",
       "      <td>Port Harcourt, Nigeria</td>\n",
       "    </tr>\n",
       "    <tr>\n",
       "      <th>6</th>\n",
       "      <td>2022-10-25T22:40:58+00:00</td>\n",
       "      <td>@Taikaz_adufe @valeron31 @Cold_n_dark @SugarCharles1 @MuchTalksBlog1 @PeterObi Can u say amen to what u wish Nigerians?</td>\n",
       "      <td>Lagos, Nigeria</td>\n",
       "    </tr>\n",
       "    <tr>\n",
       "      <th>7</th>\n",
       "      <td>2022-10-25T22:40:03+00:00</td>\n",
       "      <td>@Taikaz_adufe @valeron31 @Cold_n_dark @SugarCharles1 @MuchTalksBlog1 @PeterObi Amen bro. Saying that with my full chest</td>\n",
       "      <td>Lagos, Nigeria</td>\n",
       "    </tr>\n",
       "    <tr>\n",
       "      <th>8</th>\n",
       "      <td>2022-10-25T22:31:22+00:00</td>\n",
       "      <td>I just saw video of tinubu threatening to reduce our purchasing power😂😂😂😂</td>\n",
       "      <td>Lagos, Nigeria</td>\n",
       "    </tr>\n",
       "    <tr>\n",
       "      <th>9</th>\n",
       "      <td>2022-10-20T23:59:34+00:00</td>\n",
       "      <td>IPOB: South East senators beg Buhari to release Kanu - https://t.co/Oehx7JOFmS https://t.co/EJlS2ITvGs</td>\n",
       "      <td>Nigeria</td>\n",
       "    </tr>\n",
       "  </tbody>\n",
       "</table>\n",
       "</div>"
      ],
      "text/plain": [
       "                time_created  \\\n",
       "0  2022-10-25T23:44:56+00:00   \n",
       "1  2022-10-25T23:37:40+00:00   \n",
       "2  2022-10-25T23:31:19+00:00   \n",
       "3  2022-10-25T23:03:57+00:00   \n",
       "4  2022-10-27T23:59:39+00:00   \n",
       "5  2022-10-20T23:59:41+00:00   \n",
       "6  2022-10-25T22:40:58+00:00   \n",
       "7  2022-10-25T22:40:03+00:00   \n",
       "8  2022-10-25T22:31:22+00:00   \n",
       "9  2022-10-20T23:59:34+00:00   \n",
       "\n",
       "                                                                                                                                                                                                                      tweet  \\\n",
       "0                                                                     Tinubu Is An Emperor; Buhari, Osinbajo, Governors Begged Him To Forgive Ambode But He Refused —Dele Momodu | Sahara Reporters https://t.co/mO1zWgXQxn   \n",
       "1                                                             Dear @PeterObi please stop putting our future at risk. \\r\\nYou are the only reason I still believe in Nigeria. \\r\\nMy vote is for you https://t.co/nKhLhzrV8H   \n",
       "2      Wike pointed to how the PDP presidential candidate, Alhaji Atiku Abubakar picked people from Rivers State as members of the presidential campaign council without any input from him.\\r\\n\\r\\nhttps://t.co/H2cicBJlu1   \n",
       "3                                                                                                                                                                               @fkeyamo @apc_lagos https://t.co/KrKdTG8prX   \n",
       "4  PDP is in total chaos in Ogun, dead in Lagos, Oyo PDP refusing to work for Atiku, the leaders in Ekiti and Ondo are refusing to mount a challenge, only in Osun does the party have a deem hope. https://t.co/w3r3dmSa0i   \n",
       "5                                                                                                                    One of their lekki lies . They lie like their presidential candidate @PeterObi https://t.co/mMxchiJIPc   \n",
       "6                                                                                                   @Taikaz_adufe @valeron31 @Cold_n_dark @SugarCharles1 @MuchTalksBlog1 @PeterObi Can u say amen to what u wish Nigerians?   \n",
       "7                                                                                                   @Taikaz_adufe @valeron31 @Cold_n_dark @SugarCharles1 @MuchTalksBlog1 @PeterObi Amen bro. Saying that with my full chest   \n",
       "8                                                                                                                                                 I just saw video of tinubu threatening to reduce our purchasing power😂😂😂😂   \n",
       "9                                                                                                                    IPOB: South East senators beg Buhari to release Kanu - https://t.co/Oehx7JOFmS https://t.co/EJlS2ITvGs   \n",
       "\n",
       "                loca_tion  \n",
       "0                 Nigeria  \n",
       "1          Lagos, Nigeria  \n",
       "2                 Nigeria  \n",
       "3           Ogun, Nigeria  \n",
       "4           Ogun, Nigeria  \n",
       "5  Port Harcourt, Nigeria  \n",
       "6          Lagos, Nigeria  \n",
       "7          Lagos, Nigeria  \n",
       "8          Lagos, Nigeria  \n",
       "9                 Nigeria  "
      ]
     },
     "execution_count": 24,
     "metadata": {},
     "output_type": "execute_result"
    }
   ],
   "source": [
    "tweets.head(10)"
   ]
  },
  {
   "cell_type": "markdown",
   "id": "cfca1758",
   "metadata": {},
   "source": [
    "### Dataset Wrangling"
   ]
  },
  {
   "cell_type": "markdown",
   "id": "5c65cf86",
   "metadata": {},
   "source": [
    "+ Using one of our Research Questions to guide the data wrangling. If we consider a simple question of \"What is being said about Peter Obi?\";"
   ]
  },
  {
   "cell_type": "markdown",
   "id": "47d5e4fa",
   "metadata": {},
   "source": [
    "#### 1. Filtering"
   ]
  },
  {
   "cell_type": "markdown",
   "id": "f046da19",
   "metadata": {},
   "source": [
    "+ Filtering: Filter for tweets directed at Peter Obi, based on the following rules:\n",
    "        - Peter Obi's handle appears first in tweet.\n",
    "        - Peter Obi's name (not handle) appears any where in tweet.\n",
    "        - Peter Obi's handle appears in tweet but not after another handle.\n",
    "+ These rule help us focus the results on tweet directed to or about Peter Obi, instead of including tweets that could simply be replies to other twitter users under Peter Obi's tweet or replies to other twitter users who posted a tweet with Peter Obi's handle in it.\n",
    "+ These rules were derived from domain knowledge of the platform."
   ]
  },
  {
   "cell_type": "code",
   "execution_count": 44,
   "id": "b0c9c545-188f-4199-8559-7baaaca99fa3",
   "metadata": {},
   "outputs": [],
   "source": [
    "tweets.tweet = tweets.tweet.str.lower()"
   ]
  },
  {
   "cell_type": "code",
   "execution_count": 45,
   "id": "95dfccf5-5df3-4eec-a232-07152b161906",
   "metadata": {},
   "outputs": [],
   "source": [
    "def filter_tweet(tweet, handle, mentions):\n",
    "    \"\"\"\n",
    "    Function that filters tweet Filter for tweets directed at handle, based on the following rules:\n",
    "    - The handle appears first in tweet.\n",
    "    - The handle appears in tweet but not after another handle.\n",
    "    - The person is mentioned any where in tweet based on the list of metions.\n",
    "\n",
    "    Parameters:\n",
    "        tweet (string): The tweet\n",
    "        handle (string): The username of the subject to be filtered for should start with '@'\n",
    "        mentions (list): A list of other ways the subject could be mentioned in the text\n",
    "    \"\"\"\n",
    "\n",
    "    # Split text into tokens\n",
    "    tokens = tweet.split()\n",
    "\n",
    "    # Check for tokens that have the handle\n",
    "    indices = [i for i, token in enumerate(tokens) if token == handle]\n",
    "\n",
    "    for index in indices:\n",
    "\n",
    "        # Checks if the handle appear first\n",
    "        if index==0:\n",
    "            return True\n",
    "\n",
    "        # Checks if the another handle appears before it\n",
    "        if not tokens[index-1].startswith(\"@\"):\n",
    "            return True\n",
    "\n",
    "    # Checks if the person is mentioned anywhere in the tweet\n",
    "    for mention in mentions:\n",
    "        if mention in tweet:\n",
    "            return True\n",
    "    \n",
    "    return False"
   ]
  },
  {
   "cell_type": "code",
   "execution_count": 46,
   "id": "552c3ca9-bd79-4b62-86a8-f067fab74f72",
   "metadata": {},
   "outputs": [],
   "source": [
    "po_tweets = tweets[tweets.tweet.apply(filter_tweet, handle=\"@peterobi\", mentions=[\"peter obi\", \" peterobi\", \" po \"])].copy()"
   ]
  },
  {
   "cell_type": "code",
   "execution_count": 47,
   "id": "1a3a1916-3a08-4f35-a682-b4dd9dfeba4a",
   "metadata": {},
   "outputs": [
    {
     "data": {
      "text/plain": [
       "9134"
      ]
     },
     "execution_count": 47,
     "metadata": {},
     "output_type": "execute_result"
    }
   ],
   "source": [
    "len(po_tweets)"
   ]
  },
  {
   "cell_type": "markdown",
   "id": "8165e36b",
   "metadata": {},
   "source": [
    "#### 2. Cleaning"
   ]
  },
  {
   "cell_type": "markdown",
   "id": "60bf2338",
   "metadata": {},
   "source": [
    "+ Cleaning: after the results have been filtered to those we are certain is about Peter Obi, we clean any element of the dataset that might affect our NLP algorithm.\n",
    "        - Remove \"@\" sign from Peter Obi's handle.\n",
    "        - If the handle is not Peter Obi's remove the entire handle.\n",
    "        - Remove \"/n\", links and emojis.\n",
    "        - Replace &amp; with and.\n",
    "+ In future versions of this project, we might try to analyse some of these element, like the emojis as they could be essential for our sentimental analysis, but for now we keep it simple and focus on the execution."
   ]
  },
  {
   "cell_type": "code",
   "execution_count": 48,
   "id": "5096836d-3e8a-401b-9b6e-42f478507fb6",
   "metadata": {},
   "outputs": [],
   "source": [
    "# Unicode for emojis\n",
    "emojis = re.compile(\"[\"\n",
    "        u\"\\U0001F600-\\U0001F64F\"  # emoticons\n",
    "        u\"\\U0001F300-\\U0001F5FF\"  # symbols & pictographs\n",
    "        u\"\\U0001F680-\\U0001F6FF\"  # transport & map symbols\n",
    "        u\"\\U0001F1E0-\\U0001F1FF\"  # flags (iOS)\n",
    "        u\"\\U00002500-\\U00002BEF\"  # chinese char\n",
    "        u\"\\U00002702-\\U000027B0\"\n",
    "        u\"\\U00002702-\\U000027B0\"\n",
    "        u\"\\U000024C2-\\U0001F251\"\n",
    "        u\"\\U0001f926-\\U0001f937\"\n",
    "        u\"\\U00010000-\\U0010ffff\"\n",
    "        u\"\\u2640-\\u2642\" \n",
    "        u\"\\u2600-\\u2B55\"\n",
    "        u\"\\u200d\"\n",
    "        u\"\\u23cf\"\n",
    "        u\"\\u23e9\"\n",
    "        u\"\\u231a\"\n",
    "        u\"\\ufe0f\"  # dingbats\n",
    "        u\"\\u3030\"\n",
    "                      \"]+\", re.UNICODE)"
   ]
  },
  {
   "cell_type": "markdown",
   "id": "134b4fff-90a3-4160-88fc-81080cd17f0c",
   "metadata": {},
   "source": [
    "- need to tell michael about other handles without another before it in text\n",
    "- if peterobis handle appears after another\n",
    "- first persons handle not peterobi\n",
    "- point of removing handles?"
   ]
  },
  {
   "cell_type": "code",
   "execution_count": 49,
   "id": "25b09844-1e0e-44ec-8f0d-efe9a9d905e4",
   "metadata": {},
   "outputs": [],
   "source": [
    "def clean_tweet(tweet, handle):\n",
    "    \"\"\"\n",
    "    Function to clean tweet by:\n",
    "    - Removing the '@' symbol of the handle if it appears first \n",
    "    - Removing the @ symbol from handles that do not appear after another handle, \n",
    "    - Removing all other handles completely\n",
    "    - Changing '&' sign to and\n",
    "    - Removing newlines, links, emojis, hashtags and puntuations\n",
    "\n",
    "    Parameters:\n",
    "        tweet (string): The tweet\n",
    "        handle (string): The username of the subject should start with '@'\n",
    "        mentions (list): A list of other ways the subject could be mentioned in the text\n",
    "    \"\"\"\n",
    "\n",
    "    # Splits tweet into tokens\n",
    "    tokens = tweet.split()\n",
    "    # Checks for all handles\n",
    "    indices = [i for i, token in enumerate(tokens) if token.startswith(\"@\")] \n",
    "\n",
    "    # Checks if it is subjects handle and if it appears first or\n",
    "    # if the handle does not have another handle directly before it\n",
    "    for index in indices:\n",
    "        if (index==0 and tokens[index]==handle) or \\\n",
    "           (index!=0 and not tokens[index-1].startswith(\"@\")):\n",
    "           tweet = tweet.replace(tokens[index], tokens[index].replace(\"@\", \"\"))\n",
    "           \n",
    "    tweet = re.sub(\"@[^\\s]+\",\"\",tweet) # remove handles\n",
    "    tweet = re.sub(\"\\n\", \"\", tweet) # remove newlines\n",
    "    tweet = re.sub(\"\\r\", \"\", tweet) # remove carriage returns\n",
    "    tweet = re.sub(r\"(?:\\@|http?\\://|https?\\://|www)\\S+\", \"\", tweet) # remove links\n",
    "    tweet = re.sub(emojis, \"\", tweet) # remove emojis\n",
    "    tweet = re.sub(r\"#(\\w+)\", \"\", tweet) # remove hashtags\n",
    "    tweet = re.sub(\"&\", \"and\", tweet) # changes & sign to and\n",
    "    tweet = re.sub(r\"[^\\w\\s]\",\"\",tweet) # removes punctuation\n",
    "    tweet = tweet.strip()\n",
    "\n",
    "    return tweet"
   ]
  },
  {
   "cell_type": "code",
   "execution_count": 50,
   "id": "193b6952-289f-4aad-bc98-e3faeb23ab5a",
   "metadata": {},
   "outputs": [],
   "source": [
    "po_tweets[\"clean_tweets\"] = po_tweets.tweet.apply(clean_tweet, handle=\"@peterobi\")"
   ]
  },
  {
   "cell_type": "code",
   "execution_count": 52,
   "id": "6888de1b-c60f-40c0-ac2c-b28cfdc052c7",
   "metadata": {},
   "outputs": [
    {
     "data": {
      "text/plain": [
       "\"at this rate @peterobi will wear out @atiku and @officialabat. both can't keep up with his forefront moves. such a vanguard. https://t.co/bkkpfdejuu\""
      ]
     },
     "execution_count": 52,
     "metadata": {},
     "output_type": "execute_result"
    }
   ],
   "source": [
    "# index = 23987\n",
    "index = 15871\n",
    "\n",
    "po_tweets.tweet[index]"
   ]
  },
  {
   "cell_type": "code",
   "execution_count": 53,
   "id": "a13a98a9-69fd-4741-8dbf-e64c07b592f1",
   "metadata": {},
   "outputs": [
    {
     "data": {
      "text/plain": [
       "'at this rate peterobi will wear out atiku and officialabat both cant keep up with his forefront moves such a vanguard'"
      ]
     },
     "execution_count": 53,
     "metadata": {},
     "output_type": "execute_result"
    }
   ],
   "source": [
    "po_tweets.clean_tweets[index]"
   ]
  },
  {
   "cell_type": "code",
   "execution_count": 54,
   "id": "7fcbd7de-4b14-4a3b-8eb0-166604d5ca39",
   "metadata": {},
   "outputs": [
    {
     "data": {
      "text/plain": [
       "'@renoomokri @peterobi @mobilepunch @pmnewsnigeria @nairaland @vanguardngrnews @ap @afp @daily_trust @channelstv @arisetv it is evidence that you are jobless, campaigning for atiku by talking down peter obi will give you a job.'"
      ]
     },
     "execution_count": 54,
     "metadata": {},
     "output_type": "execute_result"
    }
   ],
   "source": [
    "index = 31452\n",
    "po_tweets.tweet[index]"
   ]
  },
  {
   "cell_type": "code",
   "execution_count": 55,
   "id": "9ac5d573-b0c6-4277-836a-078ea0d03199",
   "metadata": {},
   "outputs": [
    {
     "data": {
      "text/plain": [
       "'it is evidence that you are jobless campaigning for atiku by talking down peter obi will give you a job'"
      ]
     },
     "execution_count": 55,
     "metadata": {},
     "output_type": "execute_result"
    }
   ],
   "source": [
    "po_tweets.clean_tweets[index]"
   ]
  },
  {
   "cell_type": "code",
   "execution_count": 58,
   "id": "c8e4f38c-d0f5-48ab-ae72-fc914f335a66",
   "metadata": {},
   "outputs": [
    {
     "data": {
      "text/plain": [
       "'@peterobi 🌹🌹🌹🌹'"
      ]
     },
     "execution_count": 58,
     "metadata": {},
     "output_type": "execute_result"
    }
   ],
   "source": [
    "tweets.tweet[17968]"
   ]
  },
  {
   "cell_type": "code",
   "execution_count": 56,
   "id": "3e31bb2c-95bc-4ebd-bd32-07e56e4806fd",
   "metadata": {},
   "outputs": [
    {
     "data": {
      "text/html": [
       "<div>\n",
       "<style scoped>\n",
       "    .dataframe tbody tr th:only-of-type {\n",
       "        vertical-align: middle;\n",
       "    }\n",
       "\n",
       "    .dataframe tbody tr th {\n",
       "        vertical-align: top;\n",
       "    }\n",
       "\n",
       "    .dataframe thead th {\n",
       "        text-align: right;\n",
       "    }\n",
       "</style>\n",
       "<table border=\"1\" class=\"dataframe\">\n",
       "  <thead>\n",
       "    <tr style=\"text-align: right;\">\n",
       "      <th></th>\n",
       "      <th>clean_tweets</th>\n",
       "    </tr>\n",
       "  </thead>\n",
       "  <tbody>\n",
       "    <tr>\n",
       "      <th>17968</th>\n",
       "      <td>peterobi</td>\n",
       "    </tr>\n",
       "    <tr>\n",
       "      <th>4206</th>\n",
       "      <td>peterobi ogaa abeg dey use life jacket ooo</td>\n",
       "    </tr>\n",
       "    <tr>\n",
       "      <th>36721</th>\n",
       "      <td>yes o since peterobi will block every avenue let them loot as much as they can by whatever means they can unless they are doing so because we already have other place where our naira is printed apart from cbn or they want to force those who stole and hide money to used it</td>\n",
       "    </tr>\n",
       "    <tr>\n",
       "      <th>17973</th>\n",
       "      <td>peterobi with you peter we shall climb the tallest mountain  nigeria is gonna be great again</td>\n",
       "    </tr>\n",
       "    <tr>\n",
       "      <th>12421</th>\n",
       "      <td>expensive advise 4 northenerspeterobi is a tribal n religious bigot his  kismen subjected se to forceful bondage n sit at home ipob attacked hausa fulani businesses in se killing a lot obi presidency will embolden terrorists secessionists to carry out biafran agenda</td>\n",
       "    </tr>\n",
       "    <tr>\n",
       "      <th>3767</th>\n",
       "      <td>dont digress your candidate went to visit flood victims with a pdp cap ondid u say anything about iti thought peter obi was wrong to have made the appealyou should hide your face in shame</td>\n",
       "    </tr>\n",
       "    <tr>\n",
       "      <th>25196</th>\n",
       "      <td>peterobi we will never forget</td>\n",
       "    </tr>\n",
       "    <tr>\n",
       "      <th>17842</th>\n",
       "      <td>peterobi theres no stopping us now we on a cruise</td>\n",
       "    </tr>\n",
       "    <tr>\n",
       "      <th>25704</th>\n",
       "      <td>peter obi has cleared his name so many times concerning that event what did tinubu said about end sars your father there</td>\n",
       "    </tr>\n",
       "    <tr>\n",
       "      <th>29768</th>\n",
       "      <td>i have been labelled more than that maam its crystal clear that nigeria need a man of the people not for some elites peter obi stands tall to it</td>\n",
       "    </tr>\n",
       "    <tr>\n",
       "      <th>48972</th>\n",
       "      <td>peterobi  may god almighty bless you and make his light to shine upon you sir</td>\n",
       "    </tr>\n",
       "    <tr>\n",
       "      <th>48276</th>\n",
       "      <td>this is wisdom politics didnt make peter obi rich but politics made tinubu and his children rich if   like he should  walk barefooted to campaign for his pocketbayelsa flood anambra</td>\n",
       "    </tr>\n",
       "    <tr>\n",
       "      <th>18748</th>\n",
       "      <td>peterobi yea thats just the fact</td>\n",
       "    </tr>\n",
       "    <tr>\n",
       "      <th>31688</th>\n",
       "      <td>atiku was recorded at his home you werent there to profile him only reuben went there atiku has to appear before you guys ask him questions like you did to our president to be peter obi</td>\n",
       "    </tr>\n",
       "    <tr>\n",
       "      <th>4264</th>\n",
       "      <td>peterobi</td>\n",
       "    </tr>\n",
       "    <tr>\n",
       "      <th>39639</th>\n",
       "      <td>mk peter obi your president and see responsibility</td>\n",
       "    </tr>\n",
       "    <tr>\n",
       "      <th>35948</th>\n",
       "      <td>peterobi voice of a woman addressing the voice of women politics can be humour sometimes</td>\n",
       "    </tr>\n",
       "    <tr>\n",
       "      <th>29120</th>\n",
       "      <td>i no sabi tinubu nah only peter obi i dey hear  fulani boy without pvc video</td>\n",
       "    </tr>\n",
       "    <tr>\n",
       "      <th>27299</th>\n",
       "      <td>peterobi nigerians need your service youre the best and outstanding</td>\n",
       "    </tr>\n",
       "    <tr>\n",
       "      <th>30148</th>\n",
       "      <td>peter obi got the shock of his life in taraba as buhari and anti atiku   via  youtube</td>\n",
       "    </tr>\n",
       "  </tbody>\n",
       "</table>\n",
       "</div>"
      ],
      "text/plain": [
       "                                                                                                                                                                                                                                                                           clean_tweets\n",
       "17968                                                                                                                                                                                                                                                                          peterobi\n",
       "4206                                                                                                                                                                                                                                         peterobi ogaa abeg dey use life jacket ooo\n",
       "36721  yes o since peterobi will block every avenue let them loot as much as they can by whatever means they can unless they are doing so because we already have other place where our naira is printed apart from cbn or they want to force those who stole and hide money to used it\n",
       "17973                                                                                                                                                                                      peterobi with you peter we shall climb the tallest mountain  nigeria is gonna be great again\n",
       "12421        expensive advise 4 northenerspeterobi is a tribal n religious bigot his  kismen subjected se to forceful bondage n sit at home ipob attacked hausa fulani businesses in se killing a lot obi presidency will embolden terrorists secessionists to carry out biafran agenda\n",
       "3767                                                                                        dont digress your candidate went to visit flood victims with a pdp cap ondid u say anything about iti thought peter obi was wrong to have made the appealyou should hide your face in shame\n",
       "25196                                                                                                                                                                                                                                                     peterobi we will never forget\n",
       "17842                                                                                                                                                                                                                                 peterobi theres no stopping us now we on a cruise\n",
       "25704                                                                                                                                                          peter obi has cleared his name so many times concerning that event what did tinubu said about end sars your father there\n",
       "29768                                                                                                                                  i have been labelled more than that maam its crystal clear that nigeria need a man of the people not for some elites peter obi stands tall to it\n",
       "48972                                                                                                                                                                                                     peterobi  may god almighty bless you and make his light to shine upon you sir\n",
       "48276                                                                                             this is wisdom politics didnt make peter obi rich but politics made tinubu and his children rich if   like he should  walk barefooted to campaign for his pocketbayelsa flood anambra\n",
       "18748                                                                                                                                                                                                                                                  peterobi yea thats just the fact\n",
       "31688                                                                                         atiku was recorded at his home you werent there to profile him only reuben went there atiku has to appear before you guys ask him questions like you did to our president to be peter obi\n",
       "4264                                                                                                                                                                                                                                                                           peterobi\n",
       "39639                                                                                                                                                                                                                                mk peter obi your president and see responsibility\n",
       "35948                                                                                                                                                                                          peterobi voice of a woman addressing the voice of women politics can be humour sometimes\n",
       "29120                                                                                                                                                                                                      i no sabi tinubu nah only peter obi i dey hear  fulani boy without pvc video\n",
       "27299                                                                                                                                                                                                               peterobi nigerians need your service youre the best and outstanding\n",
       "30148                                                                                                                                                                                             peter obi got the shock of his life in taraba as buhari and anti atiku   via  youtube"
      ]
     },
     "execution_count": 56,
     "metadata": {},
     "output_type": "execute_result"
    }
   ],
   "source": [
    "po_tweets[[\"clean_tweets\"]].sample(20)"
   ]
  },
  {
   "cell_type": "code",
   "execution_count": null,
   "id": "89e83c7e-eaac-4090-bb63-c900330b8617",
   "metadata": {},
   "outputs": [],
   "source": []
  },
  {
   "cell_type": "markdown",
   "id": "b26d801b",
   "metadata": {},
   "source": [
    "#### 3. Translate"
   ]
  },
  {
   "cell_type": "markdown",
   "id": "ce587cc0",
   "metadata": {},
   "source": [
    "+ Convert all tweets to lower case.\n",
    "+ Translate: Here we convert all non-english tweet to English for a smooth and uniform analysis\n",
    "        - If text is not in English convert to English (using google translate or any other suitable library or api).\n",
    "+ This is much time saving as systems have already been develped for such translation, instead of us having to develop our NLP kit or algorithm for each language used in the Nigerian twitter space. We can simply translate with the already existing systems and then analyse with the already trained systems.\n",
    "+ In future versions of this project, we could look into developing our own custom NLP algorithm and kit tailored to our own native languages."
   ]
  },
  {
   "cell_type": "code",
   "execution_count": null,
   "id": "1b1688fe",
   "metadata": {},
   "outputs": [],
   "source": []
  },
  {
   "cell_type": "code",
   "execution_count": null,
   "id": "efc1b334",
   "metadata": {},
   "outputs": [],
   "source": []
  },
  {
   "cell_type": "markdown",
   "id": "29f98e8f",
   "metadata": {},
   "source": [
    "### General Trends "
   ]
  },
  {
   "cell_type": "markdown",
   "id": "9f346bc6",
   "metadata": {},
   "source": [
    "- This sections covers the generic trends existing amongst citizens' discussion groups.\n",
    "        - What is most talked about (regardless of area or topic)"
   ]
  },
  {
   "cell_type": "code",
   "execution_count": null,
   "id": "1338eec6",
   "metadata": {},
   "outputs": [],
   "source": []
  },
  {
   "cell_type": "code",
   "execution_count": null,
   "id": "8175356e",
   "metadata": {},
   "outputs": [],
   "source": []
  },
  {
   "cell_type": "markdown",
   "id": "a3676b8d",
   "metadata": {},
   "source": [
    "### Citizens' Sentiment"
   ]
  },
  {
   "cell_type": "markdown",
   "id": "02e2e720",
   "metadata": {},
   "source": [
    "- This section covers citizens' reactions and general sentiment towards certain topic (e.g areas of developments, policies, politically significant events, public office holders' performance and so on).\n",
    "        - What is the general sentiment of the citizens?\n",
    "\t\t- What is most discussed(election and governance related)?\n",
    "\t\t- What is the sentiment towards what is being discussed? "
   ]
  },
  {
   "cell_type": "code",
   "execution_count": null,
   "id": "b0328120",
   "metadata": {},
   "outputs": [],
   "source": []
  },
  {
   "cell_type": "code",
   "execution_count": null,
   "id": "7482ce72",
   "metadata": {},
   "outputs": [],
   "source": []
  },
  {
   "cell_type": "markdown",
   "id": "ded69742",
   "metadata": {},
   "source": [
    "### Complaint Areas"
   ]
  },
  {
   "cell_type": "markdown",
   "id": "eccf0c6f",
   "metadata": {},
   "source": [
    "- This section covers the extraction of various areas of complaints and dissatisfaction amongst citizens (in different aspects of government).\n",
    "        - What are the various areas of complaints as regards to governance?\n",
    "\t\t- What are the levels of sentiment towards the various area of complaints?"
   ]
  },
  {
   "cell_type": "code",
   "execution_count": null,
   "id": "f72bf324",
   "metadata": {},
   "outputs": [],
   "source": []
  },
  {
   "cell_type": "code",
   "execution_count": null,
   "id": "d379e29f",
   "metadata": {},
   "outputs": [],
   "source": []
  },
  {
   "cell_type": "markdown",
   "id": "0d1cc57b",
   "metadata": {},
   "source": [
    "### Politician's Reputation"
   ]
  },
  {
   "cell_type": "markdown",
   "id": "6b925500",
   "metadata": {},
   "source": [
    "- This section covers what citizens's think about certain public office holders, their sentiment towards these individuals and their general popularity or notoriety.\n",
    "        - Who is most talked about?\n",
    "\t\t- Popularity or notoreity of the most talked about.\n",
    "\t\t- Most popular, and most notorious candidates/politician.\n",
    "\t\t- How much is a certain candidate being talked about?\n",
    "\t\t- What is being said about each candidate?\n",
    "\t\t- What is the general sentiment of what is being said?"
   ]
  },
  {
   "cell_type": "code",
   "execution_count": null,
   "id": "23270b10",
   "metadata": {},
   "outputs": [],
   "source": []
  },
  {
   "cell_type": "code",
   "execution_count": null,
   "id": "b183bd86",
   "metadata": {},
   "outputs": [],
   "source": []
  }
 ],
 "metadata": {
  "kernelspec": {
   "display_name": "Python 3 (ipykernel)",
   "language": "python",
   "name": "python3"
  },
  "language_info": {
   "codemirror_mode": {
    "name": "ipython",
    "version": 3
   },
   "file_extension": ".py",
   "mimetype": "text/x-python",
   "name": "python",
   "nbconvert_exporter": "python",
   "pygments_lexer": "ipython3",
   "version": "3.9.12"
  },
  "vscode": {
   "interpreter": {
    "hash": "63963b3f4c440940f0b94a3100916033a226cb4f45979123153792d60aa56d6a"
   }
  }
 },
 "nbformat": 4,
 "nbformat_minor": 5
}
